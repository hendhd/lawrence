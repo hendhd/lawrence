{
 "cells": [
  {
   "cell_type": "markdown",
   "metadata": {},
   "source": [
    "# Data types"
   ]
  },
  {
   "cell_type": "markdown",
   "metadata": {},
   "source": [
    "Python knows a few basic data types, which are similar to the ones of other programming languages. (Once you switch to a different language, have a look into their data types and the benefits and caveats that come with them.) <br> \n",
    "In python you don't have to declare the data type of a variable, so when you assign a variable to a value, python will decide the data type for you. Use the command type() to figure out the data type of a variable:"
   ]
  },
  {
   "cell_type": "code",
   "execution_count": null,
   "metadata": {},
   "outputs": [],
   "source": [
    "a=12.2345\n",
    "type(a)"
   ]
  },
  {
   "cell_type": "code",
   "execution_count": null,
   "metadata": {},
   "outputs": [],
   "source": [
    "b=\"This is a string\"\n",
    "type(b)"
   ]
  },
  {
   "cell_type": "markdown",
   "metadata": {},
   "source": [
    "You may give an explicit data type when invoking a variable though. Take 5 for instance: it can be a number, and as such could be a float or an integer, but it can also be a string:"
   ]
  },
  {
   "cell_type": "code",
   "execution_count": 1,
   "metadata": {},
   "outputs": [
    {
     "name": "stdout",
     "output_type": "stream",
     "text": [
      "8\n",
      "53\n"
     ]
    }
   ],
   "source": [
    "a=5\n",
    "b=3\n",
    "print (a+b)\n",
    "\n",
    "a=str(5)\n",
    "b=str(3)\n",
    "print (a+b)"
   ]
  },
  {
   "cell_type": "markdown",
   "metadata": {},
   "source": [
    "In above example you see the difference of how operators on different data types function. Addition of integers obviously is something different than the addition of strings. \n",
    "Use the next box to mess around with the substraction of strings:"
   ]
  },
  {
   "cell_type": "code",
   "execution_count": 2,
   "metadata": {},
   "outputs": [
    {
     "ename": "TypeError",
     "evalue": "unsupported operand type(s) for -: 'str' and 'str'",
     "output_type": "error",
     "traceback": [
      "\u001b[0;31m---------------------------------------------------------------------------\u001b[0m",
      "\u001b[0;31mTypeError\u001b[0m                                 Traceback (most recent call last)",
      "\u001b[0;32m<ipython-input-2-41d2b93fb6d9>\u001b[0m in \u001b[0;36m<module>\u001b[0;34m\u001b[0m\n\u001b[1;32m      2\u001b[0m \u001b[0mb\u001b[0m\u001b[0;34m=\u001b[0m\u001b[0;34m\"Smith\"\u001b[0m\u001b[0;34m\u001b[0m\u001b[0;34m\u001b[0m\u001b[0m\n\u001b[1;32m      3\u001b[0m \u001b[0;34m\u001b[0m\u001b[0m\n\u001b[0;32m----> 4\u001b[0;31m \u001b[0mprint\u001b[0m \u001b[0;34m(\u001b[0m\u001b[0ma\u001b[0m\u001b[0;34m-\u001b[0m\u001b[0mb\u001b[0m\u001b[0;34m)\u001b[0m\u001b[0;34m\u001b[0m\u001b[0;34m\u001b[0m\u001b[0m\n\u001b[0m",
      "\u001b[0;31mTypeError\u001b[0m: unsupported operand type(s) for -: 'str' and 'str'"
     ]
    }
   ],
   "source": [
    "a=\"Helen Smith\"\n",
    "b=\"Smith\"\n",
    "\n",
    "print (a-b)"
   ]
  },
  {
   "cell_type": "markdown",
   "metadata": {},
   "source": [
    "This behaviour seems a bit odd: if I can add text to each other, why can't I simply substract text ? The answer is surprisingly easy and difficult at once: intuition tells me, that if I have an operation \"+\", there should be an operation \"-\" which would reverse \"+\". But let's take the following:"
   ]
  },
  {
   "cell_type": "code",
   "execution_count": 3,
   "metadata": {},
   "outputs": [
    {
     "name": "stdout",
     "output_type": "stream",
     "text": [
      "SmithSmith\n"
     ]
    }
   ],
   "source": [
    "a=\"Smith\"\n",
    "b=\"Smith\"\n",
    "c=a+b\n",
    "print (c)"
   ]
  },
  {
   "cell_type": "markdown",
   "metadata": {},
   "source": [
    "How would the operation \"-\" have to be defined so that c-b=a ? \n",
    "\n",
    "I promised an easy answer, and here it is: the mathematical operation \"+\" has the associative property. That is: a+b+c=(a+b)+c=a+(b+c)=(a+c)+b <br>\n",
    "The same operation on strings does not have the associative property:"
   ]
  },
  {
   "cell_type": "code",
   "execution_count": null,
   "metadata": {},
   "outputs": [],
   "source": [
    "a=\"Helen\"\n",
    "b=\"Smith\"\n",
    "print (a+b)\n",
    "print (b+a)"
   ]
  },
  {
   "cell_type": "markdown",
   "metadata": {},
   "source": [
    "Thus, to reverse the \"+\" operation, it's not suffiant to know one of the operants: I would have to know both of the operants to reverse it (but if I know both operants, I would not need to reverse the operation in the first place.)\n",
    "\n",
    "It's important that from this bit you understand:\n",
    "1. There are different data types\n",
    "2. Different data types demand different operations"
   ]
  }
 ],
 "metadata": {
  "kernelspec": {
   "display_name": "Python 3",
   "language": "python",
   "name": "python3"
  },
  "language_info": {
   "codemirror_mode": {
    "name": "ipython",
    "version": 3
   },
   "file_extension": ".py",
   "mimetype": "text/x-python",
   "name": "python",
   "nbconvert_exporter": "python",
   "pygments_lexer": "ipython3",
   "version": "3.8.5"
  }
 },
 "nbformat": 4,
 "nbformat_minor": 2
}
