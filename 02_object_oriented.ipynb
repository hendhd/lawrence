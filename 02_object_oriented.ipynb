{
 "cells": [
  {
   "cell_type": "markdown",
   "metadata": {},
   "source": [
    "# Object Oriented\n",
    "Python is a object oriented language. Object Oriented Programming is a programming paradigm based on \"objects\" which contain data and code (or \"attributs\" and \"methods\"). Other programming paradigms are imperitive or functional programming. You can do both in python, and to some extend will mix these concepts all the time. A object oriented language per se treats all data as objects and provides methods on the data. Let's see how Python does this:\n",
    "## Variables and Objects\n",
    "When assigning a variable, the intuitive idea is that the variable is a container for the actual data. In Python this is different. Whenever data is called, python will make an object from it:"
   ]
  },
  {
   "cell_type": "code",
   "execution_count": null,
   "metadata": {},
   "outputs": [],
   "source": [
    "print (300)"
   ]
  },
  {
   "cell_type": "markdown",
   "metadata": {},
   "source": [
    "The result you see is \"300\" in the output, but what happened is: Python built an object, gave it the value 300, and displayed it. Since there is no further assignemnt to this object, it is orphaned and will be destructed. So let's use it a bit differently:"
   ]
  },
  {
   "cell_type": "code",
   "execution_count": null,
   "metadata": {},
   "outputs": [],
   "source": [
    "a=300\n",
    "b=a\n",
    "c=300\n",
    "print(id(a), id(b), id(c))\n",
    "print(a, b)"
   ]
  },
  {
   "cell_type": "markdown",
   "metadata": {},
   "source": [
    "We built an object with the value of 300 and assigned to the variable a (or we named it a). Then we took the name b and assigned to a, so both are now references to the *same* object. \n",
    "With the function id() I can access the object identifier and you see that a and b refer to the same object. When I assigned c, Python made a new object, then gave it the value 300, and then assigned the name c to it, thus, the object identifier is a different one than for a and b.\n",
    "A good way to understand what is meant with objects in programming is to think about objects in the world: consider your family has a cat named \"Florence\".  Each member of your family might refer to her differently: one may say \"flory\", another one may call her \"kittykittykitty\" and another on simply as \"cute fur ball\". If we ask the neighbour, who is a passionate gardener and frequently has to deal with Florences leftovers between the plants, she might use \"******* black devil\". Florence though won't care much and will always be the same object in the world. \n",
    "Think of variables as a reference to an object. \n",
    "\n",
    "As we have seen with the data types before, the functionality of variables depends on the data they are refering to. Hence the basic datatypes from python come with properties and methods which are frequently used. See the following:\n"
   ]
  },
  {
   "cell_type": "code",
   "execution_count": null,
   "metadata": {},
   "outputs": [],
   "source": [
    "\"\"\"Florence likes to strive around the neighbouring gardens.\"\"\".count(\"a\")"
   ]
  },
  {
   "cell_type": "markdown",
   "metadata": {},
   "source": [
    "We have an object of the data type string and apparently we can use a method count() to do something that returns the number 2. You can pretty much guess that we count how often the letter \"a\" can be found within the string. But actually we counted how often one string is contained by another string.\n",
    "If I assign a variable to the string object, I have access to all the methods provided by string models:"
   ]
  },
  {
   "cell_type": "code",
   "execution_count": null,
   "metadata": {},
   "outputs": [],
   "source": [
    "a=\"\"\"Florence likes to strive around the neighbouring gardens. \n",
    "Mrs. Lamberts does not appreciate this very much.\n",
    "Mr. Doolittle loves to have Florence around.\"\"\"\n",
    "\n",
    "a.count(\"Florence\")"
   ]
  },
  {
   "cell_type": "markdown",
   "metadata": {},
   "source": [
    "This concept may sound pretty challenging at the first glance, but it actually is pretty cool, because in the moment you create and object, you can ask this object about it's methods and properties and thus get a pretty good idea what's provided (of course you should still get familiar with reading a proper documentation). \n",
    "Here in Jupyter you can assign a variable to an object, then type the variable added by \".\" and then press <tab> to get a list of properties and methods. Try it:"
   ]
  },
  {
   "cell_type": "code",
   "execution_count": null,
   "metadata": {},
   "outputs": [],
   "source": [
    "a=\"\"\"Florence is a black cat.\"\"\"\n",
    "a."
   ]
  },
  {
   "cell_type": "markdown",
   "metadata": {},
   "source": [
    "Don't worry, you don't have to immediately understand all of the methods. In fact, without reading the documentaion it's rather hard to figure out what's usefull. Try to get used to read documentation though, it's really, really essential for programming. Have a look at <br>\n",
    "https://docs.python.org/3/library/stdtypes.html#string-methods <br>\n",
    "and compare it with the selection you get by typing <tab> in the upper box. \n"
   ]
  },
  {
   "cell_type": "markdown",
   "metadata": {},
   "source": [
    "### Excercise\n",
    "\n",
    "1. Explore the methods of data types float and integer. \n",
    "2. We have used the count() method to find how often a string is contained in another string. Can you find a string method that would search for \"Florence\" and return a string containing \"Flory\" ?"
   ]
  }
 ],
 "metadata": {
  "kernelspec": {
   "display_name": "Python 3",
   "language": "python",
   "name": "python3"
  },
  "language_info": {
   "codemirror_mode": {
    "name": "ipython",
    "version": 3
   },
   "file_extension": ".py",
   "mimetype": "text/x-python",
   "name": "python",
   "nbconvert_exporter": "python",
   "pygments_lexer": "ipython3",
   "version": "3.7.3"
  }
 },
 "nbformat": 4,
 "nbformat_minor": 2
}
