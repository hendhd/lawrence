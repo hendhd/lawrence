{
 "cells": [
  {
   "cell_type": "markdown",
   "metadata": {},
   "source": [
    "## Variables and Objects 2 \n",
    "Find the solution of Excercise 1 here. Note that I assign the result of the replace method to variable b, and that variable a has not changed! "
   ]
  },
  {
   "cell_type": "code",
   "execution_count": null,
   "metadata": {},
   "outputs": [],
   "source": [
    "a=\"\"\"Florence is a black cat.\"\"\"\n",
    "b=a.replace(\"Florence\", \"Flory\")\n",
    "\n",
    "print (\"a:\", a)\n",
    "print (\"b:\", b)"
   ]
  },
  {
   "cell_type": "markdown",
   "metadata": {},
   "source": [
    "This is a quite important concept in python: variables do not change their values, unless this is explicitly what you want:\n"
   ]
  },
  {
   "cell_type": "code",
   "execution_count": null,
   "metadata": {},
   "outputs": [],
   "source": [
    "a=1\n",
    "print (\"a is of datatype \", type(a), id(a))\n",
    "print (\"str(a) is of datatype \", type(str(a)), id(a))\n",
    "print (\"but a is still of datatype\", type(a), id(a))\n",
    "\n",
    "a=str(1) # make a string object \"1\" and reassign variable a to this new object\n",
    "print (\"This changes everything: a now is of datatype \", type(a), id(a))"
   ]
  },
  {
   "cell_type": "code",
   "execution_count": null,
   "metadata": {},
   "outputs": [],
   "source": []
  },
  {
   "cell_type": "code",
   "execution_count": null,
   "metadata": {},
   "outputs": [],
   "source": []
  },
  {
   "cell_type": "code",
   "execution_count": null,
   "metadata": {},
   "outputs": [],
   "source": []
  },
  {
   "cell_type": "code",
   "execution_count": null,
   "metadata": {},
   "outputs": [],
   "source": [
    "It has properties like her real name (Florence), color of fur (let's say black, because we can) and favourite food (turkey)."
   ]
  }
 ],
 "metadata": {
  "kernelspec": {
   "display_name": "Python 3",
   "language": "python",
   "name": "python3"
  },
  "language_info": {
   "codemirror_mode": {
    "name": "ipython",
    "version": 3
   },
   "file_extension": ".py",
   "mimetype": "text/x-python",
   "name": "python",
   "nbconvert_exporter": "python",
   "pygments_lexer": "ipython3",
   "version": "3.7.3"
  }
 },
 "nbformat": 4,
 "nbformat_minor": 2
}
