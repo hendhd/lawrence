{
 "cells": [
  {
   "cell_type": "markdown",
   "metadata": {},
   "source": [
    "## Variables and Objects 2 \n",
    "Find the solution of Excercise 1 here. Note that I assign the result of the replace method to variable b, and that variable a has not changed! "
   ]
  },
  {
   "cell_type": "code",
   "execution_count": null,
   "metadata": {},
   "outputs": [],
   "source": [
    "a=\"\"\"Florence is a black cat.\"\"\"\n",
    "b=a.replace(\"Florence\", \"Flory\")\n",
    "\n",
    "print (\"a: \", a)\n",
    "print (\"b: \", b)"
   ]
  },
  {
   "cell_type": "markdown",
   "metadata": {},
   "source": [
    "This is a quite important concept in python: variables do not change their values, unless this is explicitly what you want:\n"
   ]
  },
  {
   "cell_type": "code",
   "execution_count": null,
   "metadata": {},
   "outputs": [],
   "source": [
    "b=1\n",
    "print (\"b is of datatype \", type(b), id(b))\n",
    "print (\"str(b) is of datatype \", type(str(b)), id(b))\n",
    "print (\"but b is still of datatype \", type(b), id(b))\n",
    "\n",
    "b=str(1) # make a string object \"1\" and reassign variable a to this new object\n",
    "print (\"This changes everything: b now is of datatype \", type(b), id(b))"
   ]
  },
  {
   "cell_type": "markdown",
   "metadata": {},
   "source": [
    "## Classes and Objects\n",
    "\n",
    "Classes have two meanings: the first is the conceptual order of your objects. As objects represent something in the real world, the classes represent the prototype (or the \"idea\" if you prefer platonian philosophy) of these objects. The second meaning is on the programming side, where classes are a bundle of data and methods (properties) of objects. \n",
    "\n",
    "Objects are instances of classes. This seems a bit odd, because it loks like a synonym, but in fact it is not: the instance of a class is rather the perspective from the data model view, whereas the object is the representation of an object in the world. Think of it as the difference between \"My grandpas only child Debbie\" vs \"Mum\".\n",
    "\n",
    "Examples for classes and their objects would be:\n",
    "\n",
    "cats -> Florence\n",
    "dogs -> Goodboygoodboy\n",
    "humans -> you,me\n",
    "students -> you\n",
    "teachers -> David, me\n",
    "\n",
    "In a special use case, classes can be \"subclasses\" from other classes and inherit their properties:\n",
    "\n",
    "mammals  :  cats      ->  Florence\n",
    "         :  dogs      ->  Goodboygoodboy\n",
    "         :  teachers  ->  David, me\n",
    "\n",
    "In this example, mammals is the parent class to the child class cats. Florence still is an instance of the class cats, and an object in the world. \n",
    "We don't need this for now, but the concept of inheritance is something you should've heard of. \n",
    "\n",
    "Let's get our hands a bit furry and write a class about cats. The properties of cats shall be the attributs (name, color of fur, lifes) and the method (pur).\n",
    "\n"
   ]
  },
  {
   "cell_type": "code",
   "execution_count": null,
   "metadata": {},
   "outputs": [],
   "source": [
    "#Define the class\n",
    "class cat:\n",
    "# Here we define the only method of this class:\n",
    "\n",
    "  def pur(self):\n",
    "    # Note that we use the string .format method for string interpolation\n",
    "    print (\"{name} is purring\".format(name=self.name) )\n",
    "    return\n",
    "\n",
    "# Oddly enough, the spot to define what happens when the class is instanced (an object is created)\n",
    "\n",
    "  def __init__(self, name, furcolor, lifes=9): # note that we give a default value for lifes here\n",
    "    self.furcolor = furcolor\n",
    "    self.name = name\n",
    "    self.lifes = lifes\n",
    "\n",
    "\n",
    "florence = cat(\"Florence\", \"grey\")\n",
    "\n",
    "print( \"\"\"{name} is a cat with {color} fur. As typical for cats,\n",
    "{name} has {lifes} lifes\"\"\".format(name=florence.name, color=florence.furcolor, lifes=florence.lifes))\n"
   ]
  },
  {
   "cell_type": "markdown",
   "metadata": {},
   "source": [
    "### A short word about data modeling\n",
    "To define classes you will have to simplify the properties of your objects in such a way, that you are able to handle the classes, and still cover you specific context. This process is called data modeling and you will spent a surprisingly long time in figuring out which data model best fits your use case. A strong advice here is: don't overthink it. Whenever you find yourself thinking abou whether to put a method in a child rather letting it inherit from the parent, stop thinking and start coding. A lot of details, obstacles and mistakes will only appear in the actual implementation of your model, and even worse: they will appear *after* you rolled out your code and you have it running for a while. \n",
    "\n",
    "Don't be discouraged: often changes to data models are quite annoying, because you may need to adapt your classes or the tables in your database. But unlike typos in your syntax, the need to change the data model either means you really made a funny mistake, in which case you should laugh about your stupid past self, because you are smarter now. Or you learned something fundamental new about this particular model of the world. In which case you should be proud, because you are smarter now. \n",
    "\n",
    "Don't get confused by the term \"model\" here. In scientific contexts, models are a simplified description of a part of the world derived from theory. In the programming context, models describe the relations and methods of information. I like to phrase the difference with an example:\n",
    "\n",
    "Science : if my model is right, it describes the world. \n",
    "Programming: if I describe the world right, I have the model. "
   ]
  },
  {
   "cell_type": "code",
   "execution_count": null,
   "metadata": {},
   "outputs": [],
   "source": []
  }
 ],
 "metadata": {
  "kernelspec": {
   "display_name": "Python 3",
   "language": "python",
   "name": "python3"
  },
  "language_info": {
   "codemirror_mode": {
    "name": "ipython",
    "version": 3
   },
   "file_extension": ".py",
   "mimetype": "text/x-python",
   "name": "python",
   "nbconvert_exporter": "python",
   "pygments_lexer": "ipython3",
   "version": "3.7.3"
  }
 },
 "nbformat": 4,
 "nbformat_minor": 2
}
